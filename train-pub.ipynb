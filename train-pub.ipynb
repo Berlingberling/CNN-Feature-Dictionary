{
 "cells": [
  {
   "cell_type": "code",
   "execution_count": 3,
   "metadata": {},
   "outputs": [
    {
     "name": "stdout",
     "output_type": "stream",
     "text": [
      "The autoreload extension is already loaded. To reload it, use:\n",
      "  %reload_ext autoreload\n"
     ]
    }
   ],
   "source": [
    "%load_ext autoreload\n",
    "%autoreload 2\n",
    "\n",
    "import numpy as np\n",
    "import torch\n",
    "import torchvision\n",
    "import matplotlib.pyplot as plt\n",
    "import os\n",
    "\n",
    "from scipy.ndimage.morphology import binary_dilation as dilate\n",
    "from scipy.ndimage.morphology import binary_erosion as erode\n",
    "from sklearn.decomposition import PCA\n",
    "from sklearn.cluster import KMeans\n",
    "from sklearn.cluster import MiniBatchKMeans\n",
    "from data_helper import *\n",
    "from model_helper import *\n",
    "from skimage import transform\n",
    "from tqdm import tqdm\n",
    "#from efficientnet_pytorch import EfficientNet"
   ]
  },
  {
   "cell_type": "code",
   "execution_count": 4,
   "metadata": {},
   "outputs": [
    {
     "name": "stderr",
     "output_type": "stream",
     "text": [
      "Using cache found in /home/ubuntu/.cache/torch/hub/facebookresearch_WSL-Images_master\n"
     ]
    }
   ],
   "source": [
    "device = 'cuda:0'\n",
    "\n",
    "model = torch.hub.load('facebookresearch/WSL-Images', 'resnext101_32x8d_wsl')\n",
    "#model = EfficientNet.from_pretrained('efficientnet-b5')\n",
    "model = model.to(device)\n",
    "\n",
    "data_set = 'wood'\n",
    "defect = 'hole'\n",
    "patch_dim = 16\n",
    "train_size = 1\n",
    "n_clusters = 10\n",
    "stride = 4"
   ]
  },
  {
   "cell_type": "markdown",
   "metadata": {},
   "source": [
    "## Training\n",
    "Builds the feature dictionary."
   ]
  },
  {
   "cell_type": "code",
   "execution_count": 5,
   "metadata": {},
   "outputs": [
    {
     "name": "stderr",
     "output_type": "stream",
     "text": [
      "100%|██████████| 1/1 [00:00<00:00,  6.58it/s]\n"
     ]
    },
    {
     "name": "stdout",
     "output_type": "stream",
     "text": [
      "512\n",
      "(15625, 16, 16, 3)\n"
     ]
    }
   ],
   "source": [
    "train = give_train(data_set, train_size)\n",
    "patches = get_patches(patch_dim, stride, train)\n",
    "print(patches.shape)"
   ]
  },
  {
   "cell_type": "code",
   "execution_count": null,
   "metadata": {},
   "outputs": [
    {
     "name": "stderr",
     "output_type": "stream",
     "text": [
      "100%|██████████| 15625/15625 [10:25<00:00, 24.97it/s]\n"
     ]
    }
   ],
   "source": [
    "features = np.concatenate([get_feature(batch, model, device=device) for batch in tqdm(patches)])\n",
    "features.shape"
   ]
  },
  {
   "cell_type": "code",
   "execution_count": null,
   "metadata": {},
   "outputs": [],
   "source": [
    "pca = PCA(n_components=0.95,svd_solver='full')\n",
    "X = pca.fit_transform(features)\n",
    "print(X.shape)\n",
    "X = (X - X.mean()) / X.std()\n",
    "kmeans = KMeans(n_clusters=n_clusters, init='k-means++').fit(X)"
   ]
  },
  {
   "cell_type": "code",
   "execution_count": null,
   "metadata": {},
   "outputs": [],
   "source": [
    "patch_labels = kmeans.labels_\n",
    "clusters = [np.array([]) for i in range(n_clusters)]\n",
    "for idx,feature in enumerate(X):\n",
    "    label = patch_labels[idx]\n",
    "    clusters[label] = np.append(clusters[label], feature)\n",
    "for i in range(n_clusters):\n",
    "    clusters[i] = clusters[i].reshape(-1,X.shape[1])\n",
    "\n",
    "centroids = kmeans.cluster_centers_\n",
    "feature_dict = np.zeros((n_clusters, X.shape[1]))\n",
    "\n",
    "for i,cluster in enumerate(clusters):\n",
    "    represent = (cluster - centroids[i])\n",
    "    index = np.argmin(np.diagonal(represent.dot(represent.T)))\n",
    "    feature_dict[i] = cluster[index]"
   ]
  },
  {
   "cell_type": "markdown",
   "metadata": {
    "pycharm": {
     "name": "#%% md\n"
    }
   },
   "source": [
    "## Testing\n",
    "\n",
    "Tests the algorithm for one image."
   ]
  },
  {
   "cell_type": "code",
   "execution_count": null,
   "metadata": {
    "pycharm": {
     "name": "#%%\n"
    }
   },
   "outputs": [],
   "source": [
    "#USE index TO SET THE IMAGE TO BE TESTED\n",
    "\n",
    "anomaly_path = \"./\" + data_set + \"/test/\" + defect + \"/\"\n",
    "mask_path = \"./\" + data_set + \"/ground_truth/\" + defect + \"/\"\n",
    "index = 5\n",
    "\n",
    "files = os.listdir(anomaly_path)\n",
    "dim = np.asarray(Image.open(anomaly_path+files[index])).shape[0] // 2\n",
    "\n",
    "test_anomaly = resize(np.asarray(Image.open(anomaly_path+files[index])), (dim, dim)).reshape(512,512,3)\n",
    "mask_anomaly = resize(np.asarray(Image.open(mask_path+files[index][:-4]+\"_mask.png\")), (dim, dim)).reshape(512,512)\n",
    "\n",
    "\n",
    "print(dim)\n",
    "plt.imshow(test_anomaly)\n",
    "plt.show()\n",
    "plt.imshow(mask_anomaly)\n",
    "plt.show()"
   ]
  },
  {
   "cell_type": "code",
   "execution_count": null,
   "metadata": {},
   "outputs": [],
   "source": [
    "test_patches = get_patches(patch_dim, stride, test_anomaly.reshape((1,512,512,3)))\n",
    "print(test_patches.shape)"
   ]
  },
  {
   "cell_type": "code",
   "execution_count": null,
   "metadata": {},
   "outputs": [],
   "source": [
    "test_features = np.concatenate([get_feature(batch, model, device=device) for batch in tqdm(test_patches)])"
   ]
  },
  {
   "cell_type": "code",
   "execution_count": null,
   "metadata": {},
   "outputs": [],
   "source": [
    "X_test = pca.transform(test_features)\n",
    "X_test = (X_test - np.mean(X_test)) / np.std(X_test)\n",
    "print(X_test.shape)"
   ]
  },
  {
   "cell_type": "code",
   "execution_count": null,
   "metadata": {},
   "outputs": [],
   "source": [
    "m = 3\n",
    "\n",
    "d = np.zeros((X_test.shape[0],1))\n",
    "\n",
    "for i,feature in enumerate(X_test):\n",
    "    difference = feature_dict - feature\n",
    "    distances = np.diagonal(difference.dot(difference.T))\n",
    "    distances = np.sort(distances)\n",
    "    d[i] = np.mean(distances[:m])"
   ]
  },
  {
   "cell_type": "code",
   "execution_count": null,
   "metadata": {},
   "outputs": [],
   "source": [
    "pw = ((test_anomaly.shape[1] - patch_dim) // stride) + 1\n",
    "print(pw)\n",
    "\n",
    "mask_sum = np.zeros((2,512,512))\n",
    "\n",
    "for ind,dif in enumerate(d):\n",
    "    x = stride*(ind % pw)\n",
    "    y = stride*(ind // pw)\n",
    "    add_patch = np.ones((2,patch_dim,patch_dim))\n",
    "    add_patch[0] = add_patch[0]*dif\n",
    "    mask_sum[:, y:y+16, x:x+patch_dim] = mask_sum[:, y:y+patch_dim, x:x+patch_dim] + add_patch\n",
    "\n",
    "mask_map = mask_sum[0,:,:] / mask_sum[1,:,:]"
   ]
  },
  {
   "cell_type": "code",
   "execution_count": null,
   "metadata": {},
   "outputs": [],
   "source": [
    "plt.imshow(mask_map)\n",
    "plt.show()\n",
    "plt.imshow(test_anomaly)\n",
    "plt.show()"
   ]
  },
  {
   "cell_type": "code",
   "execution_count": null,
   "metadata": {},
   "outputs": [],
   "source": [
    "sig = d.std()\n",
    "mu = d.mean()\n",
    "alpha = 1.25\n",
    "\n",
    "th = mu + alpha*sig\n",
    "iterate=5\n",
    "\n",
    "mask_final = np.heaviside((mask_map - th), 1) * 255\n",
    "mask_final = erode(dilate(mask_final, iterations=iterate), iterations=iterate)\n",
    "plt.imshow(mask_final)\n",
    "plt.show()\n",
    "plt.imshow(mask_anomaly)"
   ]
  },
  {
   "cell_type": "code",
   "execution_count": null,
   "metadata": {},
   "outputs": [],
   "source": [
    "pred = mask_final.astype('uint8')\n",
    "val = mask_anomaly.astype('uint8')\n",
    "accuracy = np.logical_not(np.logical_xor(pred, val)).sum()/(np.ones(val.shape)).sum()\n",
    "IoU = np.logical_and(val,pred).sum()/np.logical_or(val,pred).sum()\n",
    "tp_rate = np.logical_and(val,pred).sum()/val.sum()"
   ]
  },
  {
   "cell_type": "code",
   "execution_count": null,
   "metadata": {},
   "outputs": [],
   "source": [
    "print(accuracy)\n",
    "print(IoU)\n",
    "print(tp_rate)"
   ]
  },
  {
   "cell_type": "code",
   "execution_count": null,
   "metadata": {},
   "outputs": [],
   "source": []
  }
 ],
 "metadata": {
  "kernelspec": {
   "display_name": "Python 3",
   "language": "python",
   "name": "python3"
  },
  "language_info": {
   "codemirror_mode": {
    "name": "ipython",
    "version": 3
   },
   "file_extension": ".py",
   "mimetype": "text/x-python",
   "name": "python",
   "nbconvert_exporter": "python",
   "pygments_lexer": "ipython3",
   "version": "3.7.7"
  }
 },
 "nbformat": 4,
 "nbformat_minor": 4
}
